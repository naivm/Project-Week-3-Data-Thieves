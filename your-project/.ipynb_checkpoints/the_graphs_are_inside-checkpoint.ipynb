{
 "cells": [
  {
   "cell_type": "code",
   "execution_count": 1,
   "metadata": {},
   "outputs": [],
   "source": [
    "import pandas as pd\n",
    "import numpy as np"
   ]
  },
  {
   "cell_type": "code",
   "execution_count": 2,
   "metadata": {},
   "outputs": [],
   "source": [
    "whr_2017 = pd.read_csv(\"whr_2017.csv\")\n",
    "#whr_2017.head()"
   ]
  },
  {
   "cell_type": "code",
   "execution_count": 3,
   "metadata": {},
   "outputs": [],
   "source": [
    "gini_index_original = pd.read_csv(\"gini_per_country.csv\")\n",
    "#gini_index_original.head()"
   ]
  },
  {
   "cell_type": "code",
   "execution_count": 4,
   "metadata": {},
   "outputs": [],
   "source": [
    "gini_index = gini_index_original.rename(columns={\"name\": \"Country\"}).drop(columns=\"Unnamed: 0\")\n",
    "#gini_index.head()"
   ]
  },
  {
   "cell_type": "code",
   "execution_count": 5,
   "metadata": {},
   "outputs": [],
   "source": [
    "happy_gini = pd.merge(whr_2017, gini_index, on = \"Country\")\n",
    "#happy_gini.head()"
   ]
  },
  {
   "cell_type": "markdown",
   "metadata": {},
   "source": [
    "# Crating the plot data set"
   ]
  },
  {
   "cell_type": "code",
   "execution_count": 6,
   "metadata": {},
   "outputs": [],
   "source": [
    "#happy_gini[\"gini\"] = happy_gini['gini'].fillna(0)\n",
    "\n",
    "happy_gini = happy_gini[[\"Country\",\"Happiness.Rank\",\"Happiness.Score\",\"gini\"]].sort_values(by = \"Happiness.Rank\", ascending= True)\n"
   ]
  },
  {
   "cell_type": "code",
   "execution_count": 7,
   "metadata": {},
   "outputs": [],
   "source": [
    "#gini = [\"no Data\",\"low\", \"middle\", \"high\"]\n",
    "#cutoffs = [\"0\",\"24\", \"37\",\"50\",\"65\"]\n",
    "\n",
    "#happy_gini[\"grade_gini\"] = pd.cut(happy_gini[\"gini\"],cutoffs,labels = gini)\n",
    "#happy_gini.head(14)\n",
    "\n",
    "# qcuts"
   ]
  },
  {
   "cell_type": "code",
   "execution_count": 8,
   "metadata": {},
   "outputs": [
    {
     "data": {
      "text/html": [
       "<div>\n",
       "<style scoped>\n",
       "    .dataframe tbody tr th:only-of-type {\n",
       "        vertical-align: middle;\n",
       "    }\n",
       "\n",
       "    .dataframe tbody tr th {\n",
       "        vertical-align: top;\n",
       "    }\n",
       "\n",
       "    .dataframe thead th {\n",
       "        text-align: right;\n",
       "    }\n",
       "</style>\n",
       "<table border=\"1\" class=\"dataframe\">\n",
       "  <thead>\n",
       "    <tr style=\"text-align: right;\">\n",
       "      <th></th>\n",
       "      <th>Country</th>\n",
       "      <th>Happiness.Rank</th>\n",
       "      <th>Happiness.Score</th>\n",
       "      <th>gini</th>\n",
       "    </tr>\n",
       "  </thead>\n",
       "  <tbody>\n",
       "    <tr>\n",
       "      <th>0</th>\n",
       "      <td>Norway</td>\n",
       "      <td>1</td>\n",
       "      <td>7.537</td>\n",
       "      <td>25.8</td>\n",
       "    </tr>\n",
       "    <tr>\n",
       "      <th>1</th>\n",
       "      <td>Denmark</td>\n",
       "      <td>2</td>\n",
       "      <td>7.522</td>\n",
       "      <td>24.0</td>\n",
       "    </tr>\n",
       "    <tr>\n",
       "      <th>3</th>\n",
       "      <td>Switzerland</td>\n",
       "      <td>4</td>\n",
       "      <td>7.494</td>\n",
       "      <td>33.7</td>\n",
       "    </tr>\n",
       "    <tr>\n",
       "      <th>4</th>\n",
       "      <td>Finland</td>\n",
       "      <td>5</td>\n",
       "      <td>7.469</td>\n",
       "      <td>26.9</td>\n",
       "    </tr>\n",
       "    <tr>\n",
       "      <th>5</th>\n",
       "      <td>Netherlands</td>\n",
       "      <td>6</td>\n",
       "      <td>7.377</td>\n",
       "      <td>30.9</td>\n",
       "    </tr>\n",
       "    <tr>\n",
       "      <th>6</th>\n",
       "      <td>Canada</td>\n",
       "      <td>7</td>\n",
       "      <td>7.316</td>\n",
       "      <td>32.6</td>\n",
       "    </tr>\n",
       "    <tr>\n",
       "      <th>7</th>\n",
       "      <td>New Zealand</td>\n",
       "      <td>8</td>\n",
       "      <td>7.314</td>\n",
       "      <td>36.2</td>\n",
       "    </tr>\n",
       "    <tr>\n",
       "      <th>8</th>\n",
       "      <td>Sweden</td>\n",
       "      <td>9</td>\n",
       "      <td>7.284</td>\n",
       "      <td>25.0</td>\n",
       "    </tr>\n",
       "    <tr>\n",
       "      <th>9</th>\n",
       "      <td>Australia</td>\n",
       "      <td>10</td>\n",
       "      <td>7.284</td>\n",
       "      <td>30.5</td>\n",
       "    </tr>\n",
       "    <tr>\n",
       "      <th>10</th>\n",
       "      <td>Israel</td>\n",
       "      <td>11</td>\n",
       "      <td>7.213</td>\n",
       "      <td>39.2</td>\n",
       "    </tr>\n",
       "    <tr>\n",
       "      <th>11</th>\n",
       "      <td>Costa Rica</td>\n",
       "      <td>12</td>\n",
       "      <td>7.079</td>\n",
       "      <td>50.7</td>\n",
       "    </tr>\n",
       "    <tr>\n",
       "      <th>12</th>\n",
       "      <td>Austria</td>\n",
       "      <td>13</td>\n",
       "      <td>7.006</td>\n",
       "      <td>26.0</td>\n",
       "    </tr>\n",
       "    <tr>\n",
       "      <th>13</th>\n",
       "      <td>Ireland</td>\n",
       "      <td>15</td>\n",
       "      <td>6.977</td>\n",
       "      <td>34.3</td>\n",
       "    </tr>\n",
       "    <tr>\n",
       "      <th>14</th>\n",
       "      <td>Germany</td>\n",
       "      <td>16</td>\n",
       "      <td>6.951</td>\n",
       "      <td>28.3</td>\n",
       "    </tr>\n",
       "    <tr>\n",
       "      <th>15</th>\n",
       "      <td>Belgium</td>\n",
       "      <td>17</td>\n",
       "      <td>6.891</td>\n",
       "      <td>33.0</td>\n",
       "    </tr>\n",
       "  </tbody>\n",
       "</table>\n",
       "</div>"
      ],
      "text/plain": [
       "        Country  Happiness.Rank  Happiness.Score  gini\n",
       "0        Norway               1            7.537  25.8\n",
       "1       Denmark               2            7.522  24.0\n",
       "3   Switzerland               4            7.494  33.7\n",
       "4       Finland               5            7.469  26.9\n",
       "5   Netherlands               6            7.377  30.9\n",
       "6        Canada               7            7.316  32.6\n",
       "7   New Zealand               8            7.314  36.2\n",
       "8        Sweden               9            7.284  25.0\n",
       "9     Australia              10            7.284  30.5\n",
       "10       Israel              11            7.213  39.2\n",
       "11   Costa Rica              12            7.079  50.7\n",
       "12      Austria              13            7.006  26.0\n",
       "13      Ireland              15            6.977  34.3\n",
       "14      Germany              16            6.951  28.3\n",
       "15      Belgium              17            6.891  33.0"
      ]
     },
     "execution_count": 8,
     "metadata": {},
     "output_type": "execute_result"
    }
   ],
   "source": [
    "plot_gini = happy_gini.copy()\n",
    "plot_gini=plot_gini.dropna()\n",
    "plot_gini.head(15)"
   ]
  },
  {
   "cell_type": "code",
   "execution_count": 9,
   "metadata": {},
   "outputs": [],
   "source": [
    "import matplotlib.pyplot as plt\n",
    "import seaborn as sns\n"
   ]
  },
  {
   "cell_type": "code",
   "execution_count": 10,
   "metadata": {},
   "outputs": [],
   "source": [
    "plot_gini= plot_gini.rename(columns={\"Happiness.Score\": \"Happiness Score\" , \"gini\" : \"Gini Index\"})"
   ]
  },
  {
   "cell_type": "code",
   "execution_count": 11,
   "metadata": {},
   "outputs": [
    {
     "data": {
      "image/png": "[encoded data removed]",
      "text/plain": [
       "<Figure size 360x360 with 1 Axes>"
      ]
     },
     "metadata": {
      "needs_background": "light"
     },
     "output_type": "display_data"
    }
   ],
   "source": [
    "sns.set_context(\"paper\")\n",
    "g2 = sns.lmplot(x = 'Happiness Score', y = 'Gini Index', data=plot_gini, fit_reg=True)\n",
    "\n",
    "\n",
    "g2.savefig(\"scatter.jpg\")"
   ]
  },
  {
   "cell_type": "code",
   "execution_count": 12,
   "metadata": {},
   "outputs": [],
   "source": [
    "plot_gini= plot_gini.reset_index(drop=True)\n",
    "\n",
    "top_plot = plot_gini.head(8)\n",
    "bot_plot = plot_gini.tail(7)\n",
    "mid_plot = plot_gini.loc[52:60]\n",
    "new_plot = pd.concat([top_plot,mid_plot, bot_plot])\n",
    "\n",
    "new_plot= new_plot.reset_index(drop=True)"
   ]
  },
  {
   "cell_type": "code",
   "execution_count": 13,
   "metadata": {},
   "outputs": [
    {
     "data": {
      "image/png": "[encoded data removed]",
      "text/plain": [
       "<Figure size 864x504 with 1 Axes>"
      ]
     },
     "metadata": {
      "needs_background": "light"
     },
     "output_type": "display_data"
    }
   ],
   "source": [
    "new_plot= new_plot.rename(columns={\"Happiness Score\": \"Happiness_Score\" , \"Gini Index\" : \"Gini\"})\n",
    "\n",
    "plt.figure(figsize=(12,7))\n",
    "\n",
    "g1 = sns.scatterplot('Happiness_Score', 'Gini', data=new_plot, legend=False)#, size=10)\n",
    "for line in range(0,new_plot.shape[0]):\n",
    "     g1.text(new_plot.Happiness_Score[line]+0.01, new_plot.Gini[line], \n",
    "     new_plot.Country[line], horizontalalignment='left', \n",
    "     size='medium', color='black', weight='semibold')\n",
    "\n"
   ]
  },
  {
   "cell_type": "code",
   "execution_count": 14,
   "metadata": {},
   "outputs": [
    {
     "data": {
      "text/plain": [
       "\"plt.figure(figsize=(20,10))\\n\\ng1 = sns.scatterplot('Happiness_Score', 'gini', data=plot_gini, legend=False, size=20)\\nfor line in range(0,plot_gini.shape[0]):\\n     g1.text(plot_gini.Happiness_Score[line]+0.01, plot_gini.gini[line], \\n     plot_gini.Country[line], horizontalalignment='left', \\n     size='medium', color='black', weight='semibold')\""
      ]
     },
     "execution_count": 14,
     "metadata": {},
     "output_type": "execute_result"
    }
   ],
   "source": [
    "\"\"\"plt.figure(figsize=(20,10))\n",
    "\n",
    "g1 = sns.scatterplot('Happiness_Score', 'gini', data=plot_gini, legend=False, size=20)\n",
    "for line in range(0,plot_gini.shape[0]):\n",
    "     g1.text(plot_gini.Happiness_Score[line]+0.01, plot_gini.gini[line], \n",
    "     plot_gini.Country[line], horizontalalignment='left', \n",
    "     size='medium', color='black', weight='semibold')\"\"\"\n"
   ]
  },
  {
   "cell_type": "code",
   "execution_count": 17,
   "metadata": {},
   "outputs": [],
   "source": [
    "\"\"\"Income share held by lowest 20% 6.7 % \n",
    "Income share held by second 20% 12 %\n",
    "Income share held by third 20% 16.3 %\n",
    "Income share held by fourth 20% 22.3 %\n",
    "Income share held by highest 20% 42.7 %\n",
    "https://tradingeconomics.com/portugal/gini-index-wb-data.html\"\"\"\n",
    "\n",
    "arr = np.array([6.7, 12,16.3, 22.3 , 42.7 ])"
   ]
  },
  {
   "cell_type": "code",
   "execution_count": 21,
   "metadata": {},
   "outputs": [
    {
     "name": "stdout",
     "output_type": "stream",
     "text": [
      "0.32920000000000016\n"
     ]
    },
    {
     "data": {
      "image/png": "[encoded data removed]",
      "text/plain": [
       "<Figure size 432x288 with 1 Axes>"
      ]
     },
     "metadata": {
      "needs_background": "light"
     },
     "output_type": "display_data"
    }
   ],
   "source": [
    "\n",
    "\n",
    "def gini(arr):\n",
    "    count = arr.size\n",
    "    coefficient = 2 / count\n",
    "    indexes = np.arange(1, count + 1)\n",
    "    weighted_sum = (indexes * arr).sum()\n",
    "    total = arr.sum()\n",
    "    constant = (count + 1) / count\n",
    "    return coefficient * weighted_sum / total - constant\n",
    "\n",
    "def lorenz(arr):\n",
    "    # this divides the prefix sum by the total sum\n",
    "    # this ensures all the values are between 0 and 1.0\n",
    "    scaled_prefix_sum = arr.cumsum() / arr.sum()\n",
    "    # this prepends the 0 value (because 0% of all people have 0% of all wealth)\n",
    "    return np.insert(scaled_prefix_sum, 0, 0)\n",
    "\n",
    "# show the gini index!\n",
    "print(gini(arr))\n",
    "\n",
    "lorenz_curve = lorenz(arr)\n",
    "\n",
    "# we need the X values to be between 0.0 to 1.0\n",
    "plt.plot(np.linspace(0.0, 1.0, lorenz_curve.size)*100, lorenz_curve*100 )\n",
    "# plot the straight line perfect equality curve\n",
    "plt.plot([0,100], [0,100])\n",
    "plt.xlabel(\"Cumulative Share of People (%)\")\n",
    "plt.ylabel(\"Cumulative Share of Income earned (%)\")\n",
    "plt.title (\"Lorenz Curve for Portugal\")\n",
    "plt.xlim(0,100)\n",
    "plt.ylim(0,100)\n",
    "plt.savefig(\"lorenz.jpg\")\n",
    "plt.show()"
   ]
  },
  {
   "cell_type": "code",
   "execution_count": null,
   "metadata": {},
   "outputs": [],
   "source": []
  }
 ],
 "metadata": {
  "kernelspec": {
   "display_name": "Python 3",
   "language": "python",
   "name": "python3"
  },
  "language_info": {
   "codemirror_mode": {
    "name": "ipython",
    "version": 3
   },
   "file_extension": ".py",
   "mimetype": "text/x-python",
   "name": "python",
   "nbconvert_exporter": "python",
   "pygments_lexer": "ipython3",
   "version": "3.7.3"
  }
 },
 "nbformat": 4,
 "nbformat_minor": 2
}
